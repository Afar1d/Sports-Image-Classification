{
 "metadata": {
  "kernelspec": {
   "language": "python",
   "display_name": "Python 3",
   "name": "python3"
  },
  "language_info": {
   "name": "python",
   "version": "3.7.12",
   "mimetype": "text/x-python",
   "codemirror_mode": {
    "name": "ipython",
    "version": 3
   },
   "pygments_lexer": "ipython3",
   "nbconvert_exporter": "python",
   "file_extension": ".py"
  }
 },
 "nbformat_minor": 4,
 "nbformat": 4,
 "cells": [
  {
   "cell_type": "code",
   "source": [
    "import glob\n",
    "import cv2\n",
    "import numpy as np\n",
    "import os\n",
    "import csv\n",
    "import pandas as pd\n",
    "from random import shuffle\n",
    "from tqdm import tqdm\n",
    "from tensorflow.python.framework import ops\n",
    "import matplotlib.pyplot as plt\n",
    "from tensorflow import keras\n",
    "import tensorflow as tf\n",
    "from sklearn.model_selection import train_test_split\n",
    "import os\n",
    "from keras.preprocessing.image import ImageDataGenerator\n",
    "from keras import backend as K\n",
    "import keras\n",
    "from keras.models import Sequential, Model,load_model\n",
    "from keras.callbacks import EarlyStopping,ModelCheckpoint\n",
    "from keras.layers import Input, Add, Dense, Activation, ZeroPadding2D, BatchNormalization, Flatten, Conv2D, AveragePooling2D, MaxPooling2D, GlobalMaxPooling2D,MaxPool2D\n",
    "from keras.preprocessing import image\n",
    "from keras.initializers import glorot_uniform"
   ],
   "metadata": {
    "execution": {
     "iopub.status.busy": "2022-12-24T19:49:35.532175Z",
     "iopub.execute_input": "2022-12-24T19:49:35.533165Z",
     "iopub.status.idle": "2022-12-24T19:49:37.616782Z",
     "shell.execute_reply.started": "2022-12-24T19:49:35.533074Z",
     "shell.execute_reply": "2022-12-24T19:49:37.615786Z"
    },
    "trusted": true,
    "pycharm": {
     "name": "#%%\n"
    }
   },
   "execution_count": 1,
   "outputs": []
  },
  {
   "cell_type": "code",
   "source": [
    "labels = {\n",
    "    0: 'Basketball',\n",
    "    1: 'Football',\n",
    "    2: 'Rowing',\n",
    "    3: 'Swimming',\n",
    "    4: 'Tennis',\n",
    "    5: 'Yoga', }\n",
    "TRAIN_DIR = 'Train'\n",
    "TEST_DIR = 'Test'\n",
    "IMG_SIZE = 150\n",
    "LR = 0.001\n",
    "MODEL_NAME = 'Sport-cnn'\n",
    "# -----------------------------------------#\n",
    "def create_label(image_name):\n",
    "    \"\"\" Create a one-hot encoded vector from image name \"\"\"\n",
    "    word_label = image_name.split('_')[0]\n",
    "    if word_label == 'Basketball':\n",
    "        return np.array([1, 0, 0, 0, 0, 0])\n",
    "    elif word_label == 'Football':\n",
    "        return np.array([0, 1, 0, 0, 0, 0])\n",
    "    elif word_label == 'Rowing':\n",
    "        return np.array([0, 0, 1, 0, 0, 0])\n",
    "    elif word_label == 'Swimming':\n",
    "        return np.array([0, 0, 0, 1, 0, 0])\n",
    "    elif word_label == 'Tennis':\n",
    "        return np.array([0, 0, 0, 0, 1, 0])\n",
    "    elif word_label == 'Yoga':\n",
    "        return np.array([0, 0, 0, 0, 0, 1])\n",
    "#     else:\n",
    "#         print(word_label,\"XXXXXXXXXXXXXXXXXXXXXXXXXXXXXXXXXXXXXXXXXXXXXXXXXXXXXXXXXXXXXXXXXXXXXXX\")"
   ],
   "metadata": {
    "execution": {
     "iopub.status.busy": "2022-12-24T19:49:37.622566Z",
     "iopub.execute_input": "2022-12-24T19:49:37.623140Z",
     "iopub.status.idle": "2022-12-24T19:49:37.633589Z",
     "shell.execute_reply.started": "2022-12-24T19:49:37.623102Z",
     "shell.execute_reply": "2022-12-24T19:49:37.632654Z"
    },
    "trusted": true,
    "pycharm": {
     "name": "#%%\n"
    }
   },
   "execution_count": 2,
   "outputs": []
  },
  {
   "cell_type": "code",
   "source": [
    "def create_data(train_test):\n",
    "    data = []\n",
    "    img_count = 0\n",
    "    folder = '/kaggle/input' +'/' + os.listdir('/kaggle/input')[0]\n",
    "    for folder_type in os.listdir(folder):\n",
    "        directory = folder+'/'+folder_type\n",
    "#         print(directory)\n",
    "        if folder_type.lower() != train_test.lower():\n",
    "            print(\"skip\",folder_type)\n",
    "            continue\n",
    "        print()\n",
    "        for img_name in os.listdir(directory):\n",
    "#             print(\"mame\",img_name,\"directory\",directory)\n",
    "            img_dir = directory+'/'+img_name\n",
    "#             print(img_count,img_dir,)\n",
    "            img_count += 1\n",
    "            img_data = cv2.imread(img_dir)\n",
    "            img_data = cv2.resize(img_data, (IMG_SIZE, IMG_SIZE))\n",
    "            if train_test.lower() == 'train':\n",
    "                data.append([np.array(img_data), create_label(img_name)])\n",
    "            else :\n",
    "                data.append(np.array(img_data))\n",
    "\n",
    "    shuffle(data)\n",
    "    print('number of images',img_count)\n",
    "    return data,img_count\n",
    "\n",
    "\n",
    "data,count = create_data(\"train\")\n",
    "print(np.array(data).shape)"
   ],
   "metadata": {
    "execution": {
     "iopub.status.busy": "2022-12-24T19:49:37.636784Z",
     "iopub.execute_input": "2022-12-24T19:49:37.637125Z",
     "iopub.status.idle": "2022-12-24T19:49:45.361228Z",
     "shell.execute_reply.started": "2022-12-24T19:49:37.637096Z",
     "shell.execute_reply": "2022-12-24T19:49:45.359711Z"
    },
    "trusted": true,
    "pycharm": {
     "name": "#%%\n"
    }
   },
   "execution_count": 3,
   "outputs": [
    {
     "name": "stdout",
     "text": "skip Test\n\nnumber of images 1681\n(1681, 2)\n",
     "output_type": "stream"
    },
    {
     "name": "stderr",
     "text": "/opt/conda/lib/python3.7/site-packages/ipykernel_launcher.py:30: VisibleDeprecationWarning: Creating an ndarray from ragged nested sequences (which is a list-or-tuple of lists-or-tuples-or ndarrays with different lengths or shapes) is deprecated. If you meant to do this, you must specify 'dtype=object' when creating the ndarray.\n",
     "output_type": "stream"
    }
   ]
  },
  {
   "cell_type": "code",
   "source": [
    "train_data, test_data = train_test_split(data, test_size=0.01, shuffle=False)\n",
    "train = np.array(train_data)\n",
    "test = test_data\n",
    "\n",
    "# print((train).shape)\n",
    "# [print(np.array(i[0]).shape) for i in train]\n",
    "# [print(np.array(i[1]).shape) for i in train]\n",
    "\n",
    "X_train = np.array([i[0] for i in train]).reshape(-1, IMG_SIZE, IMG_SIZE,3)\n",
    "y_train = [i[1] for i in train]\n",
    "\n",
    "X_test = np.array([i[0] for i in test]).reshape(-1,IMG_SIZE, IMG_SIZE,3)\n",
    "y_test = [i[1] for i in test]\n",
    "\n",
    "print('train',X_train.shape,X_test.shape,len(y_train),len(y_test))\n"
   ],
   "metadata": {
    "execution": {
     "iopub.status.busy": "2022-12-24T19:49:45.365001Z",
     "iopub.execute_input": "2022-12-24T19:49:45.365908Z",
     "iopub.status.idle": "2022-12-24T19:49:45.411536Z",
     "shell.execute_reply.started": "2022-12-24T19:49:45.365870Z",
     "shell.execute_reply": "2022-12-24T19:49:45.410384Z"
    },
    "trusted": true,
    "pycharm": {
     "name": "#%%\n"
    }
   },
   "execution_count": 4,
   "outputs": [
    {
     "name": "stdout",
     "text": "train (1344, 150, 150, 3) (337, 150, 150, 3) 1344 337\n",
     "output_type": "stream"
    },
    {
     "name": "stderr",
     "text": "/opt/conda/lib/python3.7/site-packages/ipykernel_launcher.py:2: VisibleDeprecationWarning: Creating an ndarray from ragged nested sequences (which is a list-or-tuple of lists-or-tuples-or ndarrays with different lengths or shapes) is deprecated. If you meant to do this, you must specify 'dtype=object' when creating the ndarray.\n  \n",
     "output_type": "stream"
    }
   ]
  },
  {
   "cell_type": "code",
   "source": [
    "def identity_block(X, f, filters, stage, block):\n",
    "   \n",
    "    conv_name_base = 'res' + str(stage) + block + '_branch'\n",
    "    bn_name_base = 'bn' + str(stage) + block + '_branch'\n",
    "    F1, F2, F3 = filters\n",
    "\n",
    "    X_shortcut = X\n",
    "   \n",
    "    X = Conv2D(filters=F1, kernel_size=(1, 1), strides=(1, 1), padding='valid', name=conv_name_base + '2a', kernel_initializer=glorot_uniform(seed=0))(X)\n",
    "    X = BatchNormalization(axis=3, name=bn_name_base + '2a')(X)\n",
    "    X = Activation('relu')(X)\n",
    "\n",
    "    X = Conv2D(filters=F2, kernel_size=(f, f), strides=(1, 1), padding='same', name=conv_name_base + '2b', kernel_initializer=glorot_uniform(seed=0))(X)\n",
    "    X = BatchNormalization(axis=3, name=bn_name_base + '2b')(X)\n",
    "    X = Activation('relu')(X)\n",
    "\n",
    "    X = Conv2D(filters=F3, kernel_size=(1, 1), strides=(1, 1), padding='valid', name=conv_name_base + '2c', kernel_initializer=glorot_uniform(seed=0))(X)\n",
    "    X = BatchNormalization(axis=3, name=bn_name_base + '2c')(X)\n",
    "\n",
    "    X = Add()([X, X_shortcut])# SKIP Connection\n",
    "    X = Activation('relu')(X)\n",
    "\n",
    "    return X\n"
   ],
   "metadata": {
    "execution": {
     "iopub.status.busy": "2022-12-24T19:49:45.413102Z",
     "iopub.execute_input": "2022-12-24T19:49:45.413743Z",
     "iopub.status.idle": "2022-12-24T19:49:45.423857Z",
     "shell.execute_reply.started": "2022-12-24T19:49:45.413700Z",
     "shell.execute_reply": "2022-12-24T19:49:45.422831Z"
    },
    "trusted": true,
    "pycharm": {
     "name": "#%%\n"
    }
   },
   "execution_count": 5,
   "outputs": []
  },
  {
   "cell_type": "code",
   "source": [
    "def convolutional_block(X, f, filters, stage, block, s=2):\n",
    "   \n",
    "    conv_name_base = 'res' + str(stage) + block + '_branch'\n",
    "    bn_name_base = 'bn' + str(stage) + block + '_branch'\n",
    "\n",
    "    F1, F2, F3 = filters\n",
    "\n",
    "    X_shortcut = X\n",
    "\n",
    "    X = Conv2D(filters=F1, kernel_size=(1, 1), strides=(s, s), padding='valid', name=conv_name_base + '2a', kernel_initializer=glorot_uniform(seed=0))(X)\n",
    "    X = BatchNormalization(axis=3, name=bn_name_base + '2a')(X)\n",
    "    X = Activation('relu')(X)\n",
    "\n",
    "    X = Conv2D(filters=F2, kernel_size=(f, f), strides=(1, 1), padding='same', name=conv_name_base + '2b', kernel_initializer=glorot_uniform(seed=0))(X)\n",
    "    X = BatchNormalization(axis=3, name=bn_name_base + '2b')(X)\n",
    "    X = Activation('relu')(X)\n",
    "\n",
    "    X = Conv2D(filters=F3, kernel_size=(1, 1), strides=(1, 1), padding='valid', name=conv_name_base + '2c', kernel_initializer=glorot_uniform(seed=0))(X)\n",
    "    X = BatchNormalization(axis=3, name=bn_name_base + '2c')(X)\n",
    "\n",
    "    X_shortcut = Conv2D(filters=F3, kernel_size=(1, 1), strides=(s, s), padding='valid', name=conv_name_base + '1', kernel_initializer=glorot_uniform(seed=0))(X_shortcut)\n",
    "    X_shortcut = BatchNormalization(axis=3, name=bn_name_base + '1')(X_shortcut)\n",
    "\n",
    "    X = Add()([X, X_shortcut])\n",
    "    X = Activation('relu')(X)\n",
    "\n",
    "    return X\n"
   ],
   "metadata": {
    "execution": {
     "iopub.status.busy": "2022-12-24T19:49:45.425350Z",
     "iopub.execute_input": "2022-12-24T19:49:45.425724Z",
     "iopub.status.idle": "2022-12-24T19:49:45.437315Z",
     "shell.execute_reply.started": "2022-12-24T19:49:45.425688Z",
     "shell.execute_reply": "2022-12-24T19:49:45.436240Z"
    },
    "trusted": true,
    "pycharm": {
     "name": "#%%\n"
    }
   },
   "execution_count": 6,
   "outputs": []
  },
  {
   "cell_type": "code",
   "source": [
    "def ResNet50(input_shape=(224, 224, 3)):\n",
    "\n",
    "    X_input = Input(input_shape)\n",
    "\n",
    "    X = ZeroPadding2D((3, 3))(X_input)\n",
    "    print(X.shape)\n",
    "    X = Conv2D(64, (7, 7), strides=(2, 2), name='conv1', kernel_initializer=glorot_uniform(seed=0))(X)\n",
    "    X = BatchNormalization(axis=3, name='bn_conv1')(X)\n",
    "    X = Activation('relu')(X)\n",
    "    X = MaxPooling2D((3, 3), strides=(2, 2))(X)\n",
    "\n",
    "    X = convolutional_block(X, f=3, filters=[64, 64, 256], stage=2, block='a', s=1)\n",
    "    X = identity_block(X, 3, [64, 64, 256], stage=2, block='b')\n",
    "    X = identity_block(X, 3, [64, 64, 256], stage=2, block='c')\n",
    "\n",
    "\n",
    "    X = convolutional_block(X, f=3, filters=[128, 128, 512], stage=3, block='a', s=2)\n",
    "    X = identity_block(X, 3, [128, 128, 512], stage=3, block='b')\n",
    "    X = identity_block(X, 3, [128, 128, 512], stage=3, block='c')\n",
    "    X = identity_block(X, 3, [128, 128, 512], stage=3, block='d')\n",
    "\n",
    "    X = convolutional_block(X, f=3, filters=[256, 256, 1024], stage=4, block='a', s=2)\n",
    "    X = identity_block(X, 3, [256, 256, 1024], stage=4, block='b')\n",
    "    X = identity_block(X, 3, [256, 256, 1024], stage=4, block='c')\n",
    "    X = identity_block(X, 3, [256, 256, 1024], stage=4, block='d')\n",
    "    X = identity_block(X, 3, [256, 256, 1024], stage=4, block='e')\n",
    "    X = identity_block(X, 3, [256, 256, 1024], stage=4, block='f')\n",
    "\n",
    "    X = X = convolutional_block(X, f=3, filters=[512, 512, 2048], stage=5, block='a', s=2)\n",
    "    X = identity_block(X, 3, [512, 512, 2048], stage=5, block='b')\n",
    "    X = identity_block(X, 3, [512, 512, 2048], stage=5, block='c')\n",
    "\n",
    "    X = AveragePooling2D(pool_size=(2, 2), padding='same')(X)\n",
    "    \n",
    "    model = Model(inputs=X_input, outputs=X, name='ResNet50')\n",
    "\n",
    "    return model\n"
   ],
   "metadata": {
    "execution": {
     "iopub.status.busy": "2022-12-24T19:49:45.438886Z",
     "iopub.execute_input": "2022-12-24T19:49:45.439231Z",
     "iopub.status.idle": "2022-12-24T19:49:45.455279Z",
     "shell.execute_reply.started": "2022-12-24T19:49:45.439197Z",
     "shell.execute_reply": "2022-12-24T19:49:45.454374Z"
    },
    "trusted": true,
    "pycharm": {
     "name": "#%%\n"
    }
   },
   "execution_count": 7,
   "outputs": []
  },
  {
   "cell_type": "code",
   "source": [
    "shape = X_train.shape\n",
    "print(shape[1:])\n",
    "base_model = ResNet50(shape[1:])"
   ],
   "metadata": {
    "execution": {
     "iopub.status.busy": "2022-12-24T19:49:45.456712Z",
     "iopub.execute_input": "2022-12-24T19:49:45.457721Z",
     "iopub.status.idle": "2022-12-24T19:49:47.412679Z",
     "shell.execute_reply.started": "2022-12-24T19:49:45.457686Z",
     "shell.execute_reply": "2022-12-24T19:49:47.411705Z"
    },
    "trusted": true,
    "pycharm": {
     "name": "#%%\n"
    }
   },
   "execution_count": 8,
   "outputs": [
    {
     "name": "stdout",
     "text": "(150, 150, 3)\n(None, 156, 156, 3)\n",
     "output_type": "stream"
    },
    {
     "name": "stderr",
     "text": "2022-12-24 19:49:45.520304: I tensorflow/stream_executor/cuda/cuda_gpu_executor.cc:937] successful NUMA node read from SysFS had negative value (-1), but there must be at least one NUMA node, so returning NUMA node zero\n2022-12-24 19:49:45.528177: I tensorflow/stream_executor/cuda/cuda_gpu_executor.cc:937] successful NUMA node read from SysFS had negative value (-1), but there must be at least one NUMA node, so returning NUMA node zero\n2022-12-24 19:49:45.528865: I tensorflow/stream_executor/cuda/cuda_gpu_executor.cc:937] successful NUMA node read from SysFS had negative value (-1), but there must be at least one NUMA node, so returning NUMA node zero\n2022-12-24 19:49:45.529934: I tensorflow/core/platform/cpu_feature_guard.cc:142] This TensorFlow binary is optimized with oneAPI Deep Neural Network Library (oneDNN) to use the following CPU instructions in performance-critical operations:  AVX2 AVX512F FMA\nTo enable them in other operations, rebuild TensorFlow with the appropriate compiler flags.\n2022-12-24 19:49:45.530241: I tensorflow/stream_executor/cuda/cuda_gpu_executor.cc:937] successful NUMA node read from SysFS had negative value (-1), but there must be at least one NUMA node, so returning NUMA node zero\n2022-12-24 19:49:45.530973: I tensorflow/stream_executor/cuda/cuda_gpu_executor.cc:937] successful NUMA node read from SysFS had negative value (-1), but there must be at least one NUMA node, so returning NUMA node zero\n2022-12-24 19:49:45.531613: I tensorflow/stream_executor/cuda/cuda_gpu_executor.cc:937] successful NUMA node read from SysFS had negative value (-1), but there must be at least one NUMA node, so returning NUMA node zero\n2022-12-24 19:49:46.192240: I tensorflow/stream_executor/cuda/cuda_gpu_executor.cc:937] successful NUMA node read from SysFS had negative value (-1), but there must be at least one NUMA node, so returning NUMA node zero\n2022-12-24 19:49:46.193123: I tensorflow/stream_executor/cuda/cuda_gpu_executor.cc:937] successful NUMA node read from SysFS had negative value (-1), but there must be at least one NUMA node, so returning NUMA node zero\n2022-12-24 19:49:46.193800: I tensorflow/stream_executor/cuda/cuda_gpu_executor.cc:937] successful NUMA node read from SysFS had negative value (-1), but there must be at least one NUMA node, so returning NUMA node zero\n2022-12-24 19:49:46.194388: I tensorflow/core/common_runtime/gpu/gpu_device.cc:1510] Created device /job:localhost/replica:0/task:0/device:GPU:0 with 15401 MB memory:  -> device: 0, name: Tesla P100-PCIE-16GB, pci bus id: 0000:00:04.0, compute capability: 6.0\n",
     "output_type": "stream"
    }
   ]
  },
  {
   "cell_type": "code",
   "source": [
    "headModel = base_model.output\n",
    "headModel = Flatten()(headModel)\n",
    "headModel=Dense(256, activation='relu', name='fc1',kernel_initializer=glorot_uniform(seed=0))(headModel)\n",
    "headModel=Dense(128, activation='relu', name='fc2',kernel_initializer=glorot_uniform(seed=0))(headModel)\n",
    "headModel = Dense( 6,activation='softmax', name='fc3',kernel_initializer=glorot_uniform(seed=0))(headModel)\n"
   ],
   "metadata": {
    "execution": {
     "iopub.status.busy": "2022-12-24T19:49:47.414165Z",
     "iopub.execute_input": "2022-12-24T19:49:47.414586Z",
     "iopub.status.idle": "2022-12-24T19:49:47.446171Z",
     "shell.execute_reply.started": "2022-12-24T19:49:47.414549Z",
     "shell.execute_reply": "2022-12-24T19:49:47.445317Z"
    },
    "trusted": true,
    "pycharm": {
     "name": "#%%\n"
    }
   },
   "execution_count": 9,
   "outputs": []
  },
  {
   "cell_type": "code",
   "source": [
    "!wget \"https://drive.google.com/uc?export=download&id=1n7rGZsAvwr6Le-IEHWBgA7ihz3pZA1DE\""
   ],
   "metadata": {
    "execution": {
     "iopub.status.busy": "2022-12-24T19:49:47.453809Z",
     "iopub.execute_input": "2022-12-24T19:49:47.454583Z",
     "iopub.status.idle": "2022-12-24T19:49:53.156236Z",
     "shell.execute_reply.started": "2022-12-24T19:49:47.454545Z",
     "shell.execute_reply": "2022-12-24T19:49:53.155068Z"
    },
    "trusted": true,
    "pycharm": {
     "name": "#%%\n"
    }
   },
   "execution_count": 11,
   "outputs": [
    {
     "name": "stdout",
     "text": "--2022-12-24 19:49:48--  https://drive.google.com/uc?export=download&id=1n7rGZsAvwr6Le-IEHWBgA7ihz3pZA1DE\nResolving drive.google.com (drive.google.com)... 173.194.217.113, 173.194.217.138, 173.194.217.100, ...\nConnecting to drive.google.com (drive.google.com)|173.194.217.113|:443... connected.\nHTTP request sent, awaiting response... 303 See Other\nLocation: https://doc-10-4k-docs.googleusercontent.com/docs/securesc/ha0ro937gcuc7l7deffksulhg5h7mbp1/pffjqksqokca36pi93fgfugv0ku90sm6/1671911325000/07448022858603959601/*/1n7rGZsAvwr6Le-IEHWBgA7ihz3pZA1DE?e=download&uuid=816a6bcf-3d6b-4d11-af91-d4c16b27c7c4 [following]\nWarning: wildcards not supported in HTTP.\n--2022-12-24 19:49:52--  https://doc-10-4k-docs.googleusercontent.com/docs/securesc/ha0ro937gcuc7l7deffksulhg5h7mbp1/pffjqksqokca36pi93fgfugv0ku90sm6/1671911325000/07448022858603959601/*/1n7rGZsAvwr6Le-IEHWBgA7ihz3pZA1DE?e=download&uuid=816a6bcf-3d6b-4d11-af91-d4c16b27c7c4\nResolving doc-10-4k-docs.googleusercontent.com (doc-10-4k-docs.googleusercontent.com)... 173.194.218.132, 2607:f8b0:400c:c14::84\nConnecting to doc-10-4k-docs.googleusercontent.com (doc-10-4k-docs.googleusercontent.com)|173.194.218.132|:443... connected.\nHTTP request sent, awaiting response... 200 OK\nLength: 94653016 (90M) [application/octet-stream]\nSaving to: ‘uc?export=download&id=1n7rGZsAvwr6Le-IEHWBgA7ihz3pZA1DE’\n\nuc?export=download& 100%[===================>]  90.27M   232MB/s    in 0.4s    \n\n2022-12-24 19:49:53 (232 MB/s) - ‘uc?export=download&id=1n7rGZsAvwr6Le-IEHWBgA7ihz3pZA1DE’ saved [94653016/94653016]\n\n",
     "output_type": "stream"
    }
   ]
  },
  {
   "cell_type": "code",
   "source": [
    "!mv \"/kaggle/working/uc?export=download&id=1n7rGZsAvwr6Le-IEHWBgA7ihz3pZA1DE\" \"/kaggle/working/resnet50_weights.h5\""
   ],
   "metadata": {
    "execution": {
     "iopub.status.busy": "2022-12-24T19:49:53.158909Z",
     "iopub.execute_input": "2022-12-24T19:49:53.159321Z",
     "iopub.status.idle": "2022-12-24T19:49:54.205705Z",
     "shell.execute_reply.started": "2022-12-24T19:49:53.159280Z",
     "shell.execute_reply": "2022-12-24T19:49:54.204251Z"
    },
    "trusted": true,
    "pycharm": {
     "name": "#%%\n"
    }
   },
   "execution_count": 12,
   "outputs": []
  },
  {
   "cell_type": "code",
   "source": [
    "base_model.load_weights(\"/kaggle/working/resnet50_weights.h5\")\n"
   ],
   "metadata": {
    "execution": {
     "iopub.status.busy": "2022-12-24T19:49:54.211315Z",
     "iopub.execute_input": "2022-12-24T19:49:54.212345Z",
     "iopub.status.idle": "2022-12-24T19:49:54.542427Z",
     "shell.execute_reply.started": "2022-12-24T19:49:54.212285Z",
     "shell.execute_reply": "2022-12-24T19:49:54.541405Z"
    },
    "trusted": true,
    "pycharm": {
     "name": "#%%\n"
    }
   },
   "execution_count": 13,
   "outputs": []
  },
  {
   "cell_type": "code",
   "source": [
    "model = Model(inputs=base_model.input, outputs=headModel)"
   ],
   "metadata": {
    "execution": {
     "iopub.status.busy": "2022-12-24T19:49:54.544076Z",
     "iopub.execute_input": "2022-12-24T19:49:54.544483Z",
     "iopub.status.idle": "2022-12-24T19:49:54.562893Z",
     "shell.execute_reply.started": "2022-12-24T19:49:54.544442Z",
     "shell.execute_reply": "2022-12-24T19:49:54.561981Z"
    },
    "trusted": true,
    "pycharm": {
     "name": "#%%\n"
    }
   },
   "execution_count": 14,
   "outputs": []
  },
  {
   "cell_type": "code",
   "source": [
    "y_train = np.array(y_train)\n",
    "X_train = np.array(X_train)\n",
    "print(type(y_train),type(X_train))\n",
    "print(y_train.shape,X_train.shape)"
   ],
   "metadata": {
    "execution": {
     "iopub.status.busy": "2022-12-24T19:49:54.565272Z",
     "iopub.execute_input": "2022-12-24T19:49:54.565940Z",
     "iopub.status.idle": "2022-12-24T19:49:54.608536Z",
     "shell.execute_reply.started": "2022-12-24T19:49:54.565903Z",
     "shell.execute_reply": "2022-12-24T19:49:54.607383Z"
    },
    "trusted": true,
    "pycharm": {
     "name": "#%%\n"
    }
   },
   "execution_count": 15,
   "outputs": [
    {
     "name": "stdout",
     "text": "<class 'numpy.ndarray'> <class 'numpy.ndarray'>\n(1344, 6) (1344, 150, 150, 3)\n",
     "output_type": "stream"
    }
   ]
  },
  {
   "cell_type": "code",
   "source": [
    "y_t = y_train.argmax(axis=1)"
   ],
   "metadata": {
    "execution": {
     "iopub.status.busy": "2022-12-24T19:49:54.610000Z",
     "iopub.execute_input": "2022-12-24T19:49:54.610471Z",
     "iopub.status.idle": "2022-12-24T19:49:54.615801Z",
     "shell.execute_reply.started": "2022-12-24T19:49:54.610434Z",
     "shell.execute_reply": "2022-12-24T19:49:54.614537Z"
    },
    "trusted": true,
    "pycharm": {
     "name": "#%%\n"
    }
   },
   "execution_count": 16,
   "outputs": []
  },
  {
   "cell_type": "code",
   "source": [
    "model.compile(optimizer=tf.keras.optimizers.SGD(learning_rate=0.01,nesterov=True,momentum=0.9), \n",
    "              loss=keras.losses.CategoricalCrossentropy(), metrics=['accuracy'])"
   ],
   "metadata": {
    "execution": {
     "iopub.status.busy": "2022-12-24T19:59:03.495941Z",
     "iopub.execute_input": "2022-12-24T19:59:03.496882Z",
     "iopub.status.idle": "2022-12-24T19:59:03.519136Z",
     "shell.execute_reply.started": "2022-12-24T19:59:03.496826Z",
     "shell.execute_reply": "2022-12-24T19:59:03.518220Z"
    },
    "trusted": true,
    "pycharm": {
     "name": "#%%\n"
    }
   },
   "execution_count": 23,
   "outputs": []
  },
  {
   "cell_type": "code",
   "source": [
    "print(X_train.shape, y_train.shape)\n",
    "history = model.fit(X_train,y_train,validation_split=0.2,batch_size=32,epochs=70)"
   ],
   "metadata": {
    "execution": {
     "iopub.status.busy": "2022-12-24T19:59:04.496120Z",
     "iopub.execute_input": "2022-12-24T19:59:04.496812Z",
     "iopub.status.idle": "2022-12-24T20:02:27.929042Z",
     "shell.execute_reply.started": "2022-12-24T19:59:04.496775Z",
     "shell.execute_reply": "2022-12-24T20:02:27.925782Z"
    },
    "trusted": true,
    "pycharm": {
     "name": "#%%\n"
    }
   },
   "execution_count": 24,
   "outputs": [
    {
     "name": "stdout",
     "text": "(1344, 150, 150, 3) (1344, 6)\nEpoch 1/70\n34/34 [==============================] - 9s 134ms/step - loss: 9.5908e-05 - accuracy: 1.0000 - val_loss: 0.1926 - val_accuracy: 0.9368\nEpoch 2/70\n34/34 [==============================] - 4s 105ms/step - loss: 6.9476e-05 - accuracy: 1.0000 - val_loss: 0.1933 - val_accuracy: 0.9331\nEpoch 3/70\n34/34 [==============================] - 4s 106ms/step - loss: 8.1909e-05 - accuracy: 1.0000 - val_loss: 0.1991 - val_accuracy: 0.9331\nEpoch 4/70\n34/34 [==============================] - 4s 106ms/step - loss: 7.7190e-05 - accuracy: 1.0000 - val_loss: 0.2007 - val_accuracy: 0.9331\nEpoch 5/70\n34/34 [==============================] - 4s 107ms/step - loss: 8.1150e-05 - accuracy: 1.0000 - val_loss: 0.1971 - val_accuracy: 0.9294\nEpoch 6/70\n34/34 [==============================] - 4s 105ms/step - loss: 5.3119e-05 - accuracy: 1.0000 - val_loss: 0.1968 - val_accuracy: 0.9331\nEpoch 7/70\n34/34 [==============================] - 4s 106ms/step - loss: 5.3437e-05 - accuracy: 1.0000 - val_loss: 0.1976 - val_accuracy: 0.9331\nEpoch 8/70\n34/34 [==============================] - 4s 105ms/step - loss: 4.4838e-05 - accuracy: 1.0000 - val_loss: 0.1963 - val_accuracy: 0.9331\nEpoch 9/70\n34/34 [==============================] - 4s 108ms/step - loss: 5.7364e-05 - accuracy: 1.0000 - val_loss: 0.1955 - val_accuracy: 0.9294\nEpoch 10/70\n34/34 [==============================] - 4s 106ms/step - loss: 4.2007e-05 - accuracy: 1.0000 - val_loss: 0.1973 - val_accuracy: 0.9294\nEpoch 11/70\n34/34 [==============================] - 4s 105ms/step - loss: 4.5290e-05 - accuracy: 1.0000 - val_loss: 0.1974 - val_accuracy: 0.9294\nEpoch 12/70\n34/34 [==============================] - 4s 106ms/step - loss: 6.0701e-05 - accuracy: 1.0000 - val_loss: 0.1998 - val_accuracy: 0.9294\nEpoch 13/70\n34/34 [==============================] - 4s 105ms/step - loss: 4.1901e-05 - accuracy: 1.0000 - val_loss: 0.2013 - val_accuracy: 0.9294\nEpoch 14/70\n34/34 [==============================] - 4s 105ms/step - loss: 5.0851e-05 - accuracy: 1.0000 - val_loss: 0.2035 - val_accuracy: 0.9294\nEpoch 15/70\n34/34 [==============================] - 4s 105ms/step - loss: 4.5256e-05 - accuracy: 1.0000 - val_loss: 0.2028 - val_accuracy: 0.9294\nEpoch 16/70\n34/34 [==============================] - 4s 105ms/step - loss: 4.6315e-05 - accuracy: 1.0000 - val_loss: 0.2048 - val_accuracy: 0.9294\nEpoch 17/70\n34/34 [==============================] - 4s 105ms/step - loss: 2.7712e-05 - accuracy: 1.0000 - val_loss: 0.2040 - val_accuracy: 0.9294\nEpoch 18/70\n34/34 [==============================] - 4s 107ms/step - loss: 3.3113e-05 - accuracy: 1.0000 - val_loss: 0.2048 - val_accuracy: 0.9294\nEpoch 19/70\n34/34 [==============================] - 4s 105ms/step - loss: 2.8470e-05 - accuracy: 1.0000 - val_loss: 0.2043 - val_accuracy: 0.9294\nEpoch 20/70\n34/34 [==============================] - 4s 106ms/step - loss: 3.2523e-05 - accuracy: 1.0000 - val_loss: 0.2052 - val_accuracy: 0.9294\nEpoch 21/70\n34/34 [==============================] - 4s 106ms/step - loss: 4.5653e-05 - accuracy: 1.0000 - val_loss: 0.2055 - val_accuracy: 0.9294\nEpoch 22/70\n34/34 [==============================] - 4s 107ms/step - loss: 3.2853e-05 - accuracy: 1.0000 - val_loss: 0.2105 - val_accuracy: 0.9294\nEpoch 23/70\n34/34 [==============================] - 4s 106ms/step - loss: 2.6997e-05 - accuracy: 1.0000 - val_loss: 0.2117 - val_accuracy: 0.9294\nEpoch 24/70\n34/34 [==============================] - 4s 106ms/step - loss: 2.9509e-05 - accuracy: 1.0000 - val_loss: 0.2126 - val_accuracy: 0.9294\nEpoch 25/70\n34/34 [==============================] - 4s 107ms/step - loss: 2.3131e-05 - accuracy: 1.0000 - val_loss: 0.2113 - val_accuracy: 0.9294\nEpoch 26/70\n34/34 [==============================] - 4s 106ms/step - loss: 3.4715e-05 - accuracy: 1.0000 - val_loss: 0.2069 - val_accuracy: 0.9294\nEpoch 27/70\n34/34 [==============================] - 4s 108ms/step - loss: 2.8844e-05 - accuracy: 1.0000 - val_loss: 0.2086 - val_accuracy: 0.9294\nEpoch 28/70\n34/34 [==============================] - 4s 107ms/step - loss: 2.8855e-05 - accuracy: 1.0000 - val_loss: 0.2099 - val_accuracy: 0.9294\nEpoch 29/70\n34/34 [==============================] - 4s 107ms/step - loss: 1.7048e-05 - accuracy: 1.0000 - val_loss: 0.2106 - val_accuracy: 0.9294\nEpoch 30/70\n34/34 [==============================] - 4s 106ms/step - loss: 2.8458e-05 - accuracy: 1.0000 - val_loss: 0.2108 - val_accuracy: 0.9294\nEpoch 31/70\n34/34 [==============================] - 4s 107ms/step - loss: 2.2577e-05 - accuracy: 1.0000 - val_loss: 0.2108 - val_accuracy: 0.9294\nEpoch 32/70\n34/34 [==============================] - 4s 108ms/step - loss: 3.3560e-05 - accuracy: 1.0000 - val_loss: 0.2112 - val_accuracy: 0.9294\nEpoch 33/70\n34/34 [==============================] - 4s 107ms/step - loss: 1.7351e-05 - accuracy: 1.0000 - val_loss: 0.2114 - val_accuracy: 0.9294\nEpoch 34/70\n34/34 [==============================] - 4s 108ms/step - loss: 1.9314e-05 - accuracy: 1.0000 - val_loss: 0.2103 - val_accuracy: 0.9294\nEpoch 35/70\n34/34 [==============================] - 4s 108ms/step - loss: 1.8719e-05 - accuracy: 1.0000 - val_loss: 0.2105 - val_accuracy: 0.9294\nEpoch 36/70\n34/34 [==============================] - 4s 106ms/step - loss: 2.7160e-05 - accuracy: 1.0000 - val_loss: 0.2121 - val_accuracy: 0.9294\nEpoch 37/70\n34/34 [==============================] - 4s 108ms/step - loss: 2.4189e-05 - accuracy: 1.0000 - val_loss: 0.2124 - val_accuracy: 0.9294\nEpoch 38/70\n34/34 [==============================] - 4s 106ms/step - loss: 3.0781e-05 - accuracy: 1.0000 - val_loss: 0.2105 - val_accuracy: 0.9294\nEpoch 39/70\n34/34 [==============================] - 4s 108ms/step - loss: 1.7915e-05 - accuracy: 1.0000 - val_loss: 0.2095 - val_accuracy: 0.9294\nEpoch 40/70\n34/34 [==============================] - 4s 107ms/step - loss: 1.4621e-05 - accuracy: 1.0000 - val_loss: 0.2089 - val_accuracy: 0.9294\nEpoch 41/70\n34/34 [==============================] - 4s 106ms/step - loss: 1.7404e-05 - accuracy: 1.0000 - val_loss: 0.2075 - val_accuracy: 0.9331\nEpoch 42/70\n34/34 [==============================] - 4s 106ms/step - loss: 1.4369e-05 - accuracy: 1.0000 - val_loss: 0.2074 - val_accuracy: 0.9331\nEpoch 43/70\n34/34 [==============================] - 4s 108ms/step - loss: 1.6245e-05 - accuracy: 1.0000 - val_loss: 0.2087 - val_accuracy: 0.9294\nEpoch 44/70\n34/34 [==============================] - 4s 108ms/step - loss: 2.1815e-05 - accuracy: 1.0000 - val_loss: 0.2086 - val_accuracy: 0.9294\nEpoch 45/70\n34/34 [==============================] - 4s 106ms/step - loss: 2.5241e-05 - accuracy: 1.0000 - val_loss: 0.2113 - val_accuracy: 0.9294\nEpoch 46/70\n34/34 [==============================] - 4s 107ms/step - loss: 1.4655e-05 - accuracy: 1.0000 - val_loss: 0.2115 - val_accuracy: 0.9294\nEpoch 47/70\n34/34 [==============================] - 4s 106ms/step - loss: 2.0306e-05 - accuracy: 1.0000 - val_loss: 0.2100 - val_accuracy: 0.9294\nEpoch 48/70\n34/34 [==============================] - 4s 106ms/step - loss: 1.5252e-05 - accuracy: 1.0000 - val_loss: 0.2074 - val_accuracy: 0.9257\nEpoch 49/70\n34/34 [==============================] - 4s 108ms/step - loss: 1.2717e-05 - accuracy: 1.0000 - val_loss: 0.2062 - val_accuracy: 0.9257\nEpoch 50/70\n34/34 [==============================] - 4s 106ms/step - loss: 1.7024e-05 - accuracy: 1.0000 - val_loss: 0.2070 - val_accuracy: 0.9257\nEpoch 51/70\n34/34 [==============================] - 4s 106ms/step - loss: 1.3582e-05 - accuracy: 1.0000 - val_loss: 0.2077 - val_accuracy: 0.9257\nEpoch 52/70\n34/34 [==============================] - 4s 107ms/step - loss: 2.8070e-05 - accuracy: 1.0000 - val_loss: 0.2111 - val_accuracy: 0.9331\nEpoch 53/70\n34/34 [==============================] - 4s 107ms/step - loss: 1.4571e-05 - accuracy: 1.0000 - val_loss: 0.2133 - val_accuracy: 0.9331\nEpoch 54/70\n34/34 [==============================] - 4s 106ms/step - loss: 5.3195e-05 - accuracy: 1.0000 - val_loss: 0.2166 - val_accuracy: 0.9294\nEpoch 55/70\n30/34 [=========================>....] - ETA: 0s - loss: 1.7061e-05 - accuracy: 1.0000",
     "output_type": "stream"
    },
    {
     "traceback": [
      "\u001B[0;31m---------------------------------------------------------------------------\u001B[0m",
      "\u001B[0;31mKeyboardInterrupt\u001B[0m                         Traceback (most recent call last)",
      "\u001B[0;32m/tmp/ipykernel_7163/3810260726.py\u001B[0m in \u001B[0;36m<module>\u001B[0;34m\u001B[0m\n\u001B[1;32m      1\u001B[0m \u001B[0mprint\u001B[0m\u001B[0;34m(\u001B[0m\u001B[0mX_train\u001B[0m\u001B[0;34m.\u001B[0m\u001B[0mshape\u001B[0m\u001B[0;34m,\u001B[0m \u001B[0my_train\u001B[0m\u001B[0;34m.\u001B[0m\u001B[0mshape\u001B[0m\u001B[0;34m)\u001B[0m\u001B[0;34m\u001B[0m\u001B[0;34m\u001B[0m\u001B[0m\n\u001B[0;32m----> 2\u001B[0;31m \u001B[0mhistory\u001B[0m \u001B[0;34m=\u001B[0m \u001B[0mmodel\u001B[0m\u001B[0;34m.\u001B[0m\u001B[0mfit\u001B[0m\u001B[0;34m(\u001B[0m\u001B[0mX_train\u001B[0m\u001B[0;34m,\u001B[0m\u001B[0my_train\u001B[0m\u001B[0;34m,\u001B[0m\u001B[0mvalidation_split\u001B[0m\u001B[0;34m=\u001B[0m\u001B[0;36m0.2\u001B[0m\u001B[0;34m,\u001B[0m\u001B[0mbatch_size\u001B[0m\u001B[0;34m=\u001B[0m\u001B[0;36m32\u001B[0m\u001B[0;34m,\u001B[0m\u001B[0mepochs\u001B[0m\u001B[0;34m=\u001B[0m\u001B[0;36m70\u001B[0m\u001B[0;34m)\u001B[0m\u001B[0;34m\u001B[0m\u001B[0;34m\u001B[0m\u001B[0m\n\u001B[0m",
      "\u001B[0;32m/opt/conda/lib/python3.7/site-packages/keras/engine/training.py\u001B[0m in \u001B[0;36mfit\u001B[0;34m(self, x, y, batch_size, epochs, verbose, callbacks, validation_split, validation_data, shuffle, class_weight, sample_weight, initial_epoch, steps_per_epoch, validation_steps, validation_batch_size, validation_freq, max_queue_size, workers, use_multiprocessing)\u001B[0m\n\u001B[1;32m   1187\u001B[0m               \u001B[0mlogs\u001B[0m \u001B[0;34m=\u001B[0m \u001B[0mtmp_logs\u001B[0m  \u001B[0;31m# No error, now safe to assign to logs.\u001B[0m\u001B[0;34m\u001B[0m\u001B[0;34m\u001B[0m\u001B[0m\n\u001B[1;32m   1188\u001B[0m               \u001B[0mend_step\u001B[0m \u001B[0;34m=\u001B[0m \u001B[0mstep\u001B[0m \u001B[0;34m+\u001B[0m \u001B[0mdata_handler\u001B[0m\u001B[0;34m.\u001B[0m\u001B[0mstep_increment\u001B[0m\u001B[0;34m\u001B[0m\u001B[0;34m\u001B[0m\u001B[0m\n\u001B[0;32m-> 1189\u001B[0;31m               \u001B[0mcallbacks\u001B[0m\u001B[0;34m.\u001B[0m\u001B[0mon_train_batch_end\u001B[0m\u001B[0;34m(\u001B[0m\u001B[0mend_step\u001B[0m\u001B[0;34m,\u001B[0m \u001B[0mlogs\u001B[0m\u001B[0;34m)\u001B[0m\u001B[0;34m\u001B[0m\u001B[0;34m\u001B[0m\u001B[0m\n\u001B[0m\u001B[1;32m   1190\u001B[0m               \u001B[0;32mif\u001B[0m \u001B[0mself\u001B[0m\u001B[0;34m.\u001B[0m\u001B[0mstop_training\u001B[0m\u001B[0;34m:\u001B[0m\u001B[0;34m\u001B[0m\u001B[0;34m\u001B[0m\u001B[0m\n\u001B[1;32m   1191\u001B[0m                 \u001B[0;32mbreak\u001B[0m\u001B[0;34m\u001B[0m\u001B[0;34m\u001B[0m\u001B[0m\n",
      "\u001B[0;32m/opt/conda/lib/python3.7/site-packages/keras/callbacks.py\u001B[0m in \u001B[0;36mon_train_batch_end\u001B[0;34m(self, batch, logs)\u001B[0m\n\u001B[1;32m    433\u001B[0m     \"\"\"\n\u001B[1;32m    434\u001B[0m     \u001B[0;32mif\u001B[0m \u001B[0mself\u001B[0m\u001B[0;34m.\u001B[0m\u001B[0m_should_call_train_batch_hooks\u001B[0m\u001B[0;34m:\u001B[0m\u001B[0;34m\u001B[0m\u001B[0;34m\u001B[0m\u001B[0m\n\u001B[0;32m--> 435\u001B[0;31m       \u001B[0mself\u001B[0m\u001B[0;34m.\u001B[0m\u001B[0m_call_batch_hook\u001B[0m\u001B[0;34m(\u001B[0m\u001B[0mModeKeys\u001B[0m\u001B[0;34m.\u001B[0m\u001B[0mTRAIN\u001B[0m\u001B[0;34m,\u001B[0m \u001B[0;34m'end'\u001B[0m\u001B[0;34m,\u001B[0m \u001B[0mbatch\u001B[0m\u001B[0;34m,\u001B[0m \u001B[0mlogs\u001B[0m\u001B[0;34m=\u001B[0m\u001B[0mlogs\u001B[0m\u001B[0;34m)\u001B[0m\u001B[0;34m\u001B[0m\u001B[0;34m\u001B[0m\u001B[0m\n\u001B[0m\u001B[1;32m    436\u001B[0m \u001B[0;34m\u001B[0m\u001B[0m\n\u001B[1;32m    437\u001B[0m   \u001B[0;32mdef\u001B[0m \u001B[0mon_test_batch_begin\u001B[0m\u001B[0;34m(\u001B[0m\u001B[0mself\u001B[0m\u001B[0;34m,\u001B[0m \u001B[0mbatch\u001B[0m\u001B[0;34m,\u001B[0m \u001B[0mlogs\u001B[0m\u001B[0;34m=\u001B[0m\u001B[0;32mNone\u001B[0m\u001B[0;34m)\u001B[0m\u001B[0;34m:\u001B[0m\u001B[0;34m\u001B[0m\u001B[0;34m\u001B[0m\u001B[0m\n",
      "\u001B[0;32m/opt/conda/lib/python3.7/site-packages/keras/callbacks.py\u001B[0m in \u001B[0;36m_call_batch_hook\u001B[0;34m(self, mode, hook, batch, logs)\u001B[0m\n\u001B[1;32m    293\u001B[0m       \u001B[0mself\u001B[0m\u001B[0;34m.\u001B[0m\u001B[0m_call_batch_begin_hook\u001B[0m\u001B[0;34m(\u001B[0m\u001B[0mmode\u001B[0m\u001B[0;34m,\u001B[0m \u001B[0mbatch\u001B[0m\u001B[0;34m,\u001B[0m \u001B[0mlogs\u001B[0m\u001B[0;34m)\u001B[0m\u001B[0;34m\u001B[0m\u001B[0;34m\u001B[0m\u001B[0m\n\u001B[1;32m    294\u001B[0m     \u001B[0;32melif\u001B[0m \u001B[0mhook\u001B[0m \u001B[0;34m==\u001B[0m \u001B[0;34m'end'\u001B[0m\u001B[0;34m:\u001B[0m\u001B[0;34m\u001B[0m\u001B[0;34m\u001B[0m\u001B[0m\n\u001B[0;32m--> 295\u001B[0;31m       \u001B[0mself\u001B[0m\u001B[0;34m.\u001B[0m\u001B[0m_call_batch_end_hook\u001B[0m\u001B[0;34m(\u001B[0m\u001B[0mmode\u001B[0m\u001B[0;34m,\u001B[0m \u001B[0mbatch\u001B[0m\u001B[0;34m,\u001B[0m \u001B[0mlogs\u001B[0m\u001B[0;34m)\u001B[0m\u001B[0;34m\u001B[0m\u001B[0;34m\u001B[0m\u001B[0m\n\u001B[0m\u001B[1;32m    296\u001B[0m     \u001B[0;32melse\u001B[0m\u001B[0;34m:\u001B[0m\u001B[0;34m\u001B[0m\u001B[0;34m\u001B[0m\u001B[0m\n\u001B[1;32m    297\u001B[0m       \u001B[0;32mraise\u001B[0m \u001B[0mValueError\u001B[0m\u001B[0;34m(\u001B[0m\u001B[0;34m'Unrecognized hook: {}'\u001B[0m\u001B[0;34m.\u001B[0m\u001B[0mformat\u001B[0m\u001B[0;34m(\u001B[0m\u001B[0mhook\u001B[0m\u001B[0;34m)\u001B[0m\u001B[0;34m)\u001B[0m\u001B[0;34m\u001B[0m\u001B[0;34m\u001B[0m\u001B[0m\n",
      "\u001B[0;32m/opt/conda/lib/python3.7/site-packages/keras/callbacks.py\u001B[0m in \u001B[0;36m_call_batch_end_hook\u001B[0;34m(self, mode, batch, logs)\u001B[0m\n\u001B[1;32m    313\u001B[0m       \u001B[0mself\u001B[0m\u001B[0;34m.\u001B[0m\u001B[0m_batch_times\u001B[0m\u001B[0;34m.\u001B[0m\u001B[0mappend\u001B[0m\u001B[0;34m(\u001B[0m\u001B[0mbatch_time\u001B[0m\u001B[0;34m)\u001B[0m\u001B[0;34m\u001B[0m\u001B[0;34m\u001B[0m\u001B[0m\n\u001B[1;32m    314\u001B[0m \u001B[0;34m\u001B[0m\u001B[0m\n\u001B[0;32m--> 315\u001B[0;31m     \u001B[0mself\u001B[0m\u001B[0;34m.\u001B[0m\u001B[0m_call_batch_hook_helper\u001B[0m\u001B[0;34m(\u001B[0m\u001B[0mhook_name\u001B[0m\u001B[0;34m,\u001B[0m \u001B[0mbatch\u001B[0m\u001B[0;34m,\u001B[0m \u001B[0mlogs\u001B[0m\u001B[0;34m)\u001B[0m\u001B[0;34m\u001B[0m\u001B[0;34m\u001B[0m\u001B[0m\n\u001B[0m\u001B[1;32m    316\u001B[0m \u001B[0;34m\u001B[0m\u001B[0m\n\u001B[1;32m    317\u001B[0m     \u001B[0;32mif\u001B[0m \u001B[0mlen\u001B[0m\u001B[0;34m(\u001B[0m\u001B[0mself\u001B[0m\u001B[0;34m.\u001B[0m\u001B[0m_batch_times\u001B[0m\u001B[0;34m)\u001B[0m \u001B[0;34m>=\u001B[0m \u001B[0mself\u001B[0m\u001B[0;34m.\u001B[0m\u001B[0m_num_batches_for_timing_check\u001B[0m\u001B[0;34m:\u001B[0m\u001B[0;34m\u001B[0m\u001B[0;34m\u001B[0m\u001B[0m\n",
      "\u001B[0;32m/opt/conda/lib/python3.7/site-packages/keras/callbacks.py\u001B[0m in \u001B[0;36m_call_batch_hook_helper\u001B[0;34m(self, hook_name, batch, logs)\u001B[0m\n\u001B[1;32m    351\u001B[0m     \u001B[0;32mfor\u001B[0m \u001B[0mcallback\u001B[0m \u001B[0;32min\u001B[0m \u001B[0mself\u001B[0m\u001B[0;34m.\u001B[0m\u001B[0mcallbacks\u001B[0m\u001B[0;34m:\u001B[0m\u001B[0;34m\u001B[0m\u001B[0;34m\u001B[0m\u001B[0m\n\u001B[1;32m    352\u001B[0m       \u001B[0mhook\u001B[0m \u001B[0;34m=\u001B[0m \u001B[0mgetattr\u001B[0m\u001B[0;34m(\u001B[0m\u001B[0mcallback\u001B[0m\u001B[0;34m,\u001B[0m \u001B[0mhook_name\u001B[0m\u001B[0;34m)\u001B[0m\u001B[0;34m\u001B[0m\u001B[0;34m\u001B[0m\u001B[0m\n\u001B[0;32m--> 353\u001B[0;31m       \u001B[0mhook\u001B[0m\u001B[0;34m(\u001B[0m\u001B[0mbatch\u001B[0m\u001B[0;34m,\u001B[0m \u001B[0mlogs\u001B[0m\u001B[0;34m)\u001B[0m\u001B[0;34m\u001B[0m\u001B[0;34m\u001B[0m\u001B[0m\n\u001B[0m\u001B[1;32m    354\u001B[0m \u001B[0;34m\u001B[0m\u001B[0m\n\u001B[1;32m    355\u001B[0m     \u001B[0;32mif\u001B[0m \u001B[0mself\u001B[0m\u001B[0;34m.\u001B[0m\u001B[0m_check_timing\u001B[0m\u001B[0;34m:\u001B[0m\u001B[0;34m\u001B[0m\u001B[0;34m\u001B[0m\u001B[0m\n",
      "\u001B[0;32m/opt/conda/lib/python3.7/site-packages/keras/callbacks.py\u001B[0m in \u001B[0;36mon_train_batch_end\u001B[0;34m(self, batch, logs)\u001B[0m\n\u001B[1;32m   1026\u001B[0m \u001B[0;34m\u001B[0m\u001B[0m\n\u001B[1;32m   1027\u001B[0m   \u001B[0;32mdef\u001B[0m \u001B[0mon_train_batch_end\u001B[0m\u001B[0;34m(\u001B[0m\u001B[0mself\u001B[0m\u001B[0;34m,\u001B[0m \u001B[0mbatch\u001B[0m\u001B[0;34m,\u001B[0m \u001B[0mlogs\u001B[0m\u001B[0;34m=\u001B[0m\u001B[0;32mNone\u001B[0m\u001B[0;34m)\u001B[0m\u001B[0;34m:\u001B[0m\u001B[0;34m\u001B[0m\u001B[0;34m\u001B[0m\u001B[0m\n\u001B[0;32m-> 1028\u001B[0;31m     \u001B[0mself\u001B[0m\u001B[0;34m.\u001B[0m\u001B[0m_batch_update_progbar\u001B[0m\u001B[0;34m(\u001B[0m\u001B[0mbatch\u001B[0m\u001B[0;34m,\u001B[0m \u001B[0mlogs\u001B[0m\u001B[0;34m)\u001B[0m\u001B[0;34m\u001B[0m\u001B[0;34m\u001B[0m\u001B[0m\n\u001B[0m\u001B[1;32m   1029\u001B[0m \u001B[0;34m\u001B[0m\u001B[0m\n\u001B[1;32m   1030\u001B[0m   \u001B[0;32mdef\u001B[0m \u001B[0mon_test_batch_end\u001B[0m\u001B[0;34m(\u001B[0m\u001B[0mself\u001B[0m\u001B[0;34m,\u001B[0m \u001B[0mbatch\u001B[0m\u001B[0;34m,\u001B[0m \u001B[0mlogs\u001B[0m\u001B[0;34m=\u001B[0m\u001B[0;32mNone\u001B[0m\u001B[0;34m)\u001B[0m\u001B[0;34m:\u001B[0m\u001B[0;34m\u001B[0m\u001B[0;34m\u001B[0m\u001B[0m\n",
      "\u001B[0;32m/opt/conda/lib/python3.7/site-packages/keras/callbacks.py\u001B[0m in \u001B[0;36m_batch_update_progbar\u001B[0;34m(self, batch, logs)\u001B[0m\n\u001B[1;32m   1098\u001B[0m     \u001B[0;32mif\u001B[0m \u001B[0mself\u001B[0m\u001B[0;34m.\u001B[0m\u001B[0mverbose\u001B[0m \u001B[0;34m==\u001B[0m \u001B[0;36m1\u001B[0m\u001B[0;34m:\u001B[0m\u001B[0;34m\u001B[0m\u001B[0;34m\u001B[0m\u001B[0m\n\u001B[1;32m   1099\u001B[0m       \u001B[0;31m# Only block async when verbose = 1.\u001B[0m\u001B[0;34m\u001B[0m\u001B[0;34m\u001B[0m\u001B[0;34m\u001B[0m\u001B[0m\n\u001B[0;32m-> 1100\u001B[0;31m       \u001B[0mlogs\u001B[0m \u001B[0;34m=\u001B[0m \u001B[0mtf_utils\u001B[0m\u001B[0;34m.\u001B[0m\u001B[0msync_to_numpy_or_python_type\u001B[0m\u001B[0;34m(\u001B[0m\u001B[0mlogs\u001B[0m\u001B[0;34m)\u001B[0m\u001B[0;34m\u001B[0m\u001B[0;34m\u001B[0m\u001B[0m\n\u001B[0m\u001B[1;32m   1101\u001B[0m       \u001B[0mself\u001B[0m\u001B[0;34m.\u001B[0m\u001B[0mprogbar\u001B[0m\u001B[0;34m.\u001B[0m\u001B[0mupdate\u001B[0m\u001B[0;34m(\u001B[0m\u001B[0mself\u001B[0m\u001B[0;34m.\u001B[0m\u001B[0mseen\u001B[0m\u001B[0;34m,\u001B[0m \u001B[0mlist\u001B[0m\u001B[0;34m(\u001B[0m\u001B[0mlogs\u001B[0m\u001B[0;34m.\u001B[0m\u001B[0mitems\u001B[0m\u001B[0;34m(\u001B[0m\u001B[0;34m)\u001B[0m\u001B[0;34m)\u001B[0m\u001B[0;34m,\u001B[0m \u001B[0mfinalize\u001B[0m\u001B[0;34m=\u001B[0m\u001B[0;32mFalse\u001B[0m\u001B[0;34m)\u001B[0m\u001B[0;34m\u001B[0m\u001B[0;34m\u001B[0m\u001B[0m\n\u001B[1;32m   1102\u001B[0m \u001B[0;34m\u001B[0m\u001B[0m\n",
      "\u001B[0;32m/opt/conda/lib/python3.7/site-packages/keras/utils/tf_utils.py\u001B[0m in \u001B[0;36msync_to_numpy_or_python_type\u001B[0;34m(tensors)\u001B[0m\n\u001B[1;32m    514\u001B[0m     \u001B[0;32mreturn\u001B[0m \u001B[0mt\u001B[0m  \u001B[0;31m# Don't turn ragged or sparse tensors to NumPy.\u001B[0m\u001B[0;34m\u001B[0m\u001B[0;34m\u001B[0m\u001B[0m\n\u001B[1;32m    515\u001B[0m \u001B[0;34m\u001B[0m\u001B[0m\n\u001B[0;32m--> 516\u001B[0;31m   \u001B[0;32mreturn\u001B[0m \u001B[0mtf\u001B[0m\u001B[0;34m.\u001B[0m\u001B[0mnest\u001B[0m\u001B[0;34m.\u001B[0m\u001B[0mmap_structure\u001B[0m\u001B[0;34m(\u001B[0m\u001B[0m_to_single_numpy_or_python_type\u001B[0m\u001B[0;34m,\u001B[0m \u001B[0mtensors\u001B[0m\u001B[0;34m)\u001B[0m\u001B[0;34m\u001B[0m\u001B[0;34m\u001B[0m\u001B[0m\n\u001B[0m\u001B[1;32m    517\u001B[0m \u001B[0;34m\u001B[0m\u001B[0m\n\u001B[1;32m    518\u001B[0m \u001B[0;34m\u001B[0m\u001B[0m\n",
      "\u001B[0;32m/opt/conda/lib/python3.7/site-packages/tensorflow/python/util/nest.py\u001B[0m in \u001B[0;36mmap_structure\u001B[0;34m(func, *structure, **kwargs)\u001B[0m\n\u001B[1;32m    867\u001B[0m \u001B[0;34m\u001B[0m\u001B[0m\n\u001B[1;32m    868\u001B[0m   return pack_sequence_as(\n\u001B[0;32m--> 869\u001B[0;31m       \u001B[0mstructure\u001B[0m\u001B[0;34m[\u001B[0m\u001B[0;36m0\u001B[0m\u001B[0;34m]\u001B[0m\u001B[0;34m,\u001B[0m \u001B[0;34m[\u001B[0m\u001B[0mfunc\u001B[0m\u001B[0;34m(\u001B[0m\u001B[0;34m*\u001B[0m\u001B[0mx\u001B[0m\u001B[0;34m)\u001B[0m \u001B[0;32mfor\u001B[0m \u001B[0mx\u001B[0m \u001B[0;32min\u001B[0m \u001B[0mentries\u001B[0m\u001B[0;34m]\u001B[0m\u001B[0;34m,\u001B[0m\u001B[0;34m\u001B[0m\u001B[0;34m\u001B[0m\u001B[0m\n\u001B[0m\u001B[1;32m    870\u001B[0m       expand_composites=expand_composites)\n\u001B[1;32m    871\u001B[0m \u001B[0;34m\u001B[0m\u001B[0m\n",
      "\u001B[0;32m/opt/conda/lib/python3.7/site-packages/tensorflow/python/util/nest.py\u001B[0m in \u001B[0;36m<listcomp>\u001B[0;34m(.0)\u001B[0m\n\u001B[1;32m    867\u001B[0m \u001B[0;34m\u001B[0m\u001B[0m\n\u001B[1;32m    868\u001B[0m   return pack_sequence_as(\n\u001B[0;32m--> 869\u001B[0;31m       \u001B[0mstructure\u001B[0m\u001B[0;34m[\u001B[0m\u001B[0;36m0\u001B[0m\u001B[0;34m]\u001B[0m\u001B[0;34m,\u001B[0m \u001B[0;34m[\u001B[0m\u001B[0mfunc\u001B[0m\u001B[0;34m(\u001B[0m\u001B[0;34m*\u001B[0m\u001B[0mx\u001B[0m\u001B[0;34m)\u001B[0m \u001B[0;32mfor\u001B[0m \u001B[0mx\u001B[0m \u001B[0;32min\u001B[0m \u001B[0mentries\u001B[0m\u001B[0;34m]\u001B[0m\u001B[0;34m,\u001B[0m\u001B[0;34m\u001B[0m\u001B[0;34m\u001B[0m\u001B[0m\n\u001B[0m\u001B[1;32m    870\u001B[0m       expand_composites=expand_composites)\n\u001B[1;32m    871\u001B[0m \u001B[0;34m\u001B[0m\u001B[0m\n",
      "\u001B[0;32m/opt/conda/lib/python3.7/site-packages/keras/utils/tf_utils.py\u001B[0m in \u001B[0;36m_to_single_numpy_or_python_type\u001B[0;34m(t)\u001B[0m\n\u001B[1;32m    510\u001B[0m   \u001B[0;32mdef\u001B[0m \u001B[0m_to_single_numpy_or_python_type\u001B[0m\u001B[0;34m(\u001B[0m\u001B[0mt\u001B[0m\u001B[0;34m)\u001B[0m\u001B[0;34m:\u001B[0m\u001B[0;34m\u001B[0m\u001B[0;34m\u001B[0m\u001B[0m\n\u001B[1;32m    511\u001B[0m     \u001B[0;32mif\u001B[0m \u001B[0misinstance\u001B[0m\u001B[0;34m(\u001B[0m\u001B[0mt\u001B[0m\u001B[0;34m,\u001B[0m \u001B[0mtf\u001B[0m\u001B[0;34m.\u001B[0m\u001B[0mTensor\u001B[0m\u001B[0;34m)\u001B[0m\u001B[0;34m:\u001B[0m\u001B[0;34m\u001B[0m\u001B[0;34m\u001B[0m\u001B[0m\n\u001B[0;32m--> 512\u001B[0;31m       \u001B[0mx\u001B[0m \u001B[0;34m=\u001B[0m \u001B[0mt\u001B[0m\u001B[0;34m.\u001B[0m\u001B[0mnumpy\u001B[0m\u001B[0;34m(\u001B[0m\u001B[0;34m)\u001B[0m\u001B[0;34m\u001B[0m\u001B[0;34m\u001B[0m\u001B[0m\n\u001B[0m\u001B[1;32m    513\u001B[0m       \u001B[0;32mreturn\u001B[0m \u001B[0mx\u001B[0m\u001B[0;34m.\u001B[0m\u001B[0mitem\u001B[0m\u001B[0;34m(\u001B[0m\u001B[0;34m)\u001B[0m \u001B[0;32mif\u001B[0m \u001B[0mnp\u001B[0m\u001B[0;34m.\u001B[0m\u001B[0mndim\u001B[0m\u001B[0;34m(\u001B[0m\u001B[0mx\u001B[0m\u001B[0;34m)\u001B[0m \u001B[0;34m==\u001B[0m \u001B[0;36m0\u001B[0m \u001B[0;32melse\u001B[0m \u001B[0mx\u001B[0m\u001B[0;34m\u001B[0m\u001B[0;34m\u001B[0m\u001B[0m\n\u001B[1;32m    514\u001B[0m     \u001B[0;32mreturn\u001B[0m \u001B[0mt\u001B[0m  \u001B[0;31m# Don't turn ragged or sparse tensors to NumPy.\u001B[0m\u001B[0;34m\u001B[0m\u001B[0;34m\u001B[0m\u001B[0m\n",
      "\u001B[0;32m/opt/conda/lib/python3.7/site-packages/tensorflow/python/framework/ops.py\u001B[0m in \u001B[0;36mnumpy\u001B[0;34m(self)\u001B[0m\n\u001B[1;32m   1092\u001B[0m     \"\"\"\n\u001B[1;32m   1093\u001B[0m     \u001B[0;31m# TODO(slebedev): Consider avoiding a copy for non-CPU or remote tensors.\u001B[0m\u001B[0;34m\u001B[0m\u001B[0;34m\u001B[0m\u001B[0;34m\u001B[0m\u001B[0m\n\u001B[0;32m-> 1094\u001B[0;31m     \u001B[0mmaybe_arr\u001B[0m \u001B[0;34m=\u001B[0m \u001B[0mself\u001B[0m\u001B[0;34m.\u001B[0m\u001B[0m_numpy\u001B[0m\u001B[0;34m(\u001B[0m\u001B[0;34m)\u001B[0m  \u001B[0;31m# pylint: disable=protected-access\u001B[0m\u001B[0;34m\u001B[0m\u001B[0;34m\u001B[0m\u001B[0m\n\u001B[0m\u001B[1;32m   1095\u001B[0m     \u001B[0;32mreturn\u001B[0m \u001B[0mmaybe_arr\u001B[0m\u001B[0;34m.\u001B[0m\u001B[0mcopy\u001B[0m\u001B[0;34m(\u001B[0m\u001B[0;34m)\u001B[0m \u001B[0;32mif\u001B[0m \u001B[0misinstance\u001B[0m\u001B[0;34m(\u001B[0m\u001B[0mmaybe_arr\u001B[0m\u001B[0;34m,\u001B[0m \u001B[0mnp\u001B[0m\u001B[0;34m.\u001B[0m\u001B[0mndarray\u001B[0m\u001B[0;34m)\u001B[0m \u001B[0;32melse\u001B[0m \u001B[0mmaybe_arr\u001B[0m\u001B[0;34m\u001B[0m\u001B[0;34m\u001B[0m\u001B[0m\n\u001B[1;32m   1096\u001B[0m \u001B[0;34m\u001B[0m\u001B[0m\n",
      "\u001B[0;32m/opt/conda/lib/python3.7/site-packages/tensorflow/python/framework/ops.py\u001B[0m in \u001B[0;36m_numpy\u001B[0;34m(self)\u001B[0m\n\u001B[1;32m   1058\u001B[0m   \u001B[0;32mdef\u001B[0m \u001B[0m_numpy\u001B[0m\u001B[0;34m(\u001B[0m\u001B[0mself\u001B[0m\u001B[0;34m)\u001B[0m\u001B[0;34m:\u001B[0m\u001B[0;34m\u001B[0m\u001B[0;34m\u001B[0m\u001B[0m\n\u001B[1;32m   1059\u001B[0m     \u001B[0;32mtry\u001B[0m\u001B[0;34m:\u001B[0m\u001B[0;34m\u001B[0m\u001B[0;34m\u001B[0m\u001B[0m\n\u001B[0;32m-> 1060\u001B[0;31m       \u001B[0;32mreturn\u001B[0m \u001B[0mself\u001B[0m\u001B[0;34m.\u001B[0m\u001B[0m_numpy_internal\u001B[0m\u001B[0;34m(\u001B[0m\u001B[0;34m)\u001B[0m\u001B[0;34m\u001B[0m\u001B[0;34m\u001B[0m\u001B[0m\n\u001B[0m\u001B[1;32m   1061\u001B[0m     \u001B[0;32mexcept\u001B[0m \u001B[0mcore\u001B[0m\u001B[0;34m.\u001B[0m\u001B[0m_NotOkStatusException\u001B[0m \u001B[0;32mas\u001B[0m \u001B[0me\u001B[0m\u001B[0;34m:\u001B[0m  \u001B[0;31m# pylint: disable=protected-access\u001B[0m\u001B[0;34m\u001B[0m\u001B[0;34m\u001B[0m\u001B[0m\n\u001B[1;32m   1062\u001B[0m       \u001B[0msix\u001B[0m\u001B[0;34m.\u001B[0m\u001B[0mraise_from\u001B[0m\u001B[0;34m(\u001B[0m\u001B[0mcore\u001B[0m\u001B[0;34m.\u001B[0m\u001B[0m_status_to_exception\u001B[0m\u001B[0;34m(\u001B[0m\u001B[0me\u001B[0m\u001B[0;34m.\u001B[0m\u001B[0mcode\u001B[0m\u001B[0;34m,\u001B[0m \u001B[0me\u001B[0m\u001B[0;34m.\u001B[0m\u001B[0mmessage\u001B[0m\u001B[0;34m)\u001B[0m\u001B[0;34m,\u001B[0m \u001B[0;32mNone\u001B[0m\u001B[0;34m)\u001B[0m  \u001B[0;31m# pylint: disable=protected-access\u001B[0m\u001B[0;34m\u001B[0m\u001B[0;34m\u001B[0m\u001B[0m\n",
      "\u001B[0;31mKeyboardInterrupt\u001B[0m: "
     ],
     "ename": "KeyboardInterrupt",
     "evalue": "",
     "output_type": "error"
    }
   ]
  },
  {
   "cell_type": "code",
   "source": [
    "pred_csv_data = []\n",
    "x=[]\n",
    "TEST_DIR = '/kaggle/input/nn23-sports-image-classification/Test'\n",
    "for img in tqdm(os.listdir(TEST_DIR)):\n",
    "    prediction = []\n",
    "    path = os.path.join(TEST_DIR, img)\n",
    "    img_ = cv2.imread(path)\n",
    "    test_img = cv2.resize(img_, (IMG_SIZE, IMG_SIZE))\n",
    "    test_img = test_img.reshape(IMG_SIZE, IMG_SIZE, 3)\n",
    "    x.append([test_img])\n",
    "    \n",
    "x = np.array(x)\n",
    "x = x.reshape(-1,IMG_SIZE, IMG_SIZE, 3)\n",
    "print(x.shape)\n",
    "prediction = model.predict(x)\n",
    "i=0\n",
    "for img in tqdm(os.listdir(TEST_DIR)):\n",
    "    index = prediction[i].argmax()\n",
    "#     print(index)\n",
    "    pred_csv_data.append([img,index])\n",
    "    i+=1\n",
    "#index = prediction.argmax(axis=1)\n",
    "#pred_csv_data.append([img,index])\n",
    "\n",
    "pred_csv_header = ['image_name', 'label']\n",
    "with open('test2.csv', 'w', newline='') as file:\n",
    "    writer = csv.writer(file)\n",
    "    writer.writerow(pred_csv_header)\n",
    "    # Use writerows() not writerow()\n",
    "    writer.writerows(pred_csv_data)\n"
   ],
   "metadata": {
    "execution": {
     "iopub.status.busy": "2022-12-24T19:54:39.238139Z",
     "iopub.execute_input": "2022-12-24T19:54:39.238533Z",
     "iopub.status.idle": "2022-12-24T19:54:45.760681Z",
     "shell.execute_reply.started": "2022-12-24T19:54:39.238500Z",
     "shell.execute_reply": "2022-12-24T19:54:45.759394Z"
    },
    "trusted": true,
    "pycharm": {
     "name": "#%%\n"
    }
   },
   "execution_count": 21,
   "outputs": [
    {
     "name": "stderr",
     "text": "100%|██████████| 688/688 [00:05<00:00, 119.41it/s]\n",
     "output_type": "stream"
    },
    {
     "name": "stdout",
     "text": "(688, 150, 150, 3)\n",
     "output_type": "stream"
    },
    {
     "name": "stderr",
     "text": "100%|██████████| 688/688 [00:00<00:00, 336287.28it/s]\n",
     "output_type": "stream"
    }
   ]
  },
  {
   "cell_type": "code",
   "source": [
    "pred_csv_header = ['image_name', 'label']\n",
    "with open('ResNet.csv', 'w', newline='') as file:\n",
    "    writer = csv.writer(file)\n",
    "    writer.writerow(pred_csv_header)\n",
    "    writer.writerows(result)"
   ],
   "metadata": {
    "execution": {
     "iopub.status.busy": "2022-12-24T19:54:28.521662Z",
     "iopub.execute_input": "2022-12-24T19:54:28.522032Z",
     "iopub.status.idle": "2022-12-24T19:54:28.802048Z",
     "shell.execute_reply.started": "2022-12-24T19:54:28.521995Z",
     "shell.execute_reply": "2022-12-24T19:54:28.800239Z"
    },
    "trusted": true,
    "pycharm": {
     "name": "#%%\n"
    }
   },
   "execution_count": 20,
   "outputs": [
    {
     "traceback": [
      "\u001B[0;31m---------------------------------------------------------------------------\u001B[0m",
      "\u001B[0;31mNameError\u001B[0m                                 Traceback (most recent call last)",
      "\u001B[0;32m/tmp/ipykernel_7163/1243287216.py\u001B[0m in \u001B[0;36m<module>\u001B[0;34m\u001B[0m\n\u001B[1;32m      3\u001B[0m     \u001B[0mwriter\u001B[0m \u001B[0;34m=\u001B[0m \u001B[0mcsv\u001B[0m\u001B[0;34m.\u001B[0m\u001B[0mwriter\u001B[0m\u001B[0;34m(\u001B[0m\u001B[0mfile\u001B[0m\u001B[0;34m)\u001B[0m\u001B[0;34m\u001B[0m\u001B[0;34m\u001B[0m\u001B[0m\n\u001B[1;32m      4\u001B[0m     \u001B[0mwriter\u001B[0m\u001B[0;34m.\u001B[0m\u001B[0mwriterow\u001B[0m\u001B[0;34m(\u001B[0m\u001B[0mpred_csv_header\u001B[0m\u001B[0;34m)\u001B[0m\u001B[0;34m\u001B[0m\u001B[0;34m\u001B[0m\u001B[0m\n\u001B[0;32m----> 5\u001B[0;31m     \u001B[0mwriter\u001B[0m\u001B[0;34m.\u001B[0m\u001B[0mwriterows\u001B[0m\u001B[0;34m(\u001B[0m\u001B[0mresult\u001B[0m\u001B[0;34m)\u001B[0m\u001B[0;34m\u001B[0m\u001B[0;34m\u001B[0m\u001B[0m\n\u001B[0m",
      "\u001B[0;31mNameError\u001B[0m: name 'result' is not defined"
     ],
     "ename": "NameError",
     "evalue": "name 'result' is not defined",
     "output_type": "error"
    }
   ]
  }
 ]
}